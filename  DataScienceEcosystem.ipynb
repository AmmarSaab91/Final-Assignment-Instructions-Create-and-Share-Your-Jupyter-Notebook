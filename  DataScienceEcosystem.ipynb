{
 "cells": [
  {
   "cell_type": "markdown",
   "id": "c4166892-2463-4dd5-ac8e-e70e070287ea",
   "metadata": {},
   "source": [
    "# Data Science Tools and Ecosystem"
   ]
  },
  {
   "cell_type": "markdown",
   "id": "7e21ab23-6a04-4c2a-921a-3eb77a77b6f9",
   "metadata": {},
   "source": [
    "In this notebook, Data Science Tools and Ecosystem are summarized."
   ]
  },
  {
   "cell_type": "markdown",
   "id": "22411e5b-c84d-46dc-bf99-66b916e8a2a4",
   "metadata": {},
   "source": [
    "__Objectives:__\n",
    "+ List popular languages for Data Science\n",
    "+ Some of data Science Tools\n",
    "+ Some of the commonly used libraries used by Data Scientists"
   ]
  },
  {
   "cell_type": "markdown",
   "id": "a1f2c3b7-d5e7-429e-a3a2-a1dd9bf4fdf6",
   "metadata": {},
   "source": [
    "Some of the popular languages that Data Scientists use are:\n",
    "1. Python\n",
    "2. R\n",
    "3. sql"
   ]
  },
  {
   "cell_type": "markdown",
   "id": "55f17d6b-6193-4a11-8861-f8d121c7fd6f",
   "metadata": {},
   "source": [
    "Some of the commonly used libraries used by Data Scientists include:\n",
    "1. numpy\n",
    "2. pandas\n",
    "3. matplotlib\n",
    "4. Scikit-learn\n",
    "5. Tensorflow "
   ]
  },
  {
   "cell_type": "markdown",
   "id": "d8dca32a-060c-436c-b0c3-eb1284d23119",
   "metadata": {},
   "source": [
    "|Data Science Tools |\n",
    "|-------------------|\n",
    "|1. PostgreSQL      |\n",
    "|2. Rstudio  |\n",
    "|3. Jupyter Notebooks |"
   ]
  },
  {
   "cell_type": "markdown",
   "id": "a1f75d47-3cc9-444f-9e61-ad44f1ee6f99",
   "metadata": {},
   "source": [
    "### Below are a few examples of evaluating arithmetic expressions in Python\n",
    "1. add = 5+4\n",
    "2. sub = 5-4\n",
    "3. div = 9/3"
   ]
  },
  {
   "cell_type": "code",
   "execution_count": 2,
   "id": "a896b617-6575-4ec7-b9cf-ce820da3db91",
   "metadata": {},
   "outputs": [
    {
     "data": {
      "text/plain": [
       "17"
      ]
     },
     "execution_count": 2,
     "metadata": {},
     "output_type": "execute_result"
    }
   ],
   "source": [
    "#This a simple arithmetic expression to mutiply then add integers\n",
    "(3*4)+5"
   ]
  },
  {
   "cell_type": "code",
   "execution_count": 3,
   "id": "2a75b8bf-db71-4836-b99a-d602236ad1cb",
   "metadata": {},
   "outputs": [
    {
     "data": {
      "text/plain": [
       "3.3333333333333335"
      ]
     },
     "execution_count": 3,
     "metadata": {},
     "output_type": "execute_result"
    }
   ],
   "source": [
    "#This will convert 200 minutes to hours by diving by 60\n",
    "200/60"
   ]
  },
  {
   "cell_type": "markdown",
   "id": "197735ad-19d3-4003-b9bf-c6ba767c5a81",
   "metadata": {},
   "source": [
    "## Author ##\n",
    "Ammar"
   ]
  }
 ],
 "metadata": {
  "kernelspec": {
   "display_name": "Python 3 (ipykernel)",
   "language": "python",
   "name": "python3"
  },
  "language_info": {
   "codemirror_mode": {
    "name": "ipython",
    "version": 3
   },
   "file_extension": ".py",
   "mimetype": "text/x-python",
   "name": "python",
   "nbconvert_exporter": "python",
   "pygments_lexer": "ipython3",
   "version": "3.12.3"
  }
 },
 "nbformat": 4,
 "nbformat_minor": 5
}
